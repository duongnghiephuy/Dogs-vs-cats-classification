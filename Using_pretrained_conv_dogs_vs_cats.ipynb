{
  "nbformat": 4,
  "nbformat_minor": 0,
  "metadata": {
    "colab": {
      "name": "Using pretrained conv dogs vs cats.ipynb",
      "provenance": [],
      "collapsed_sections": [],
      "include_colab_link": true
    },
    "kernelspec": {
      "name": "python3",
      "display_name": "Python 3"
    }
  },
  "cells": [
    {
      "cell_type": "markdown",
      "metadata": {
        "id": "view-in-github",
        "colab_type": "text"
      },
      "source": [
        "<a href=\"https://colab.research.google.com/github/duongnghiephuy/Student-Project/blob/master/Using_pretrained_conv_dogs_vs_cats.ipynb\" target=\"_parent\"><img src=\"https://colab.research.google.com/assets/colab-badge.svg\" alt=\"Open In Colab\"/></a>"
      ]
    },
    {
      "cell_type": "code",
      "metadata": {
        "id": "y29Z9SwgrwkS",
        "colab_type": "code",
        "colab": {}
      },
      "source": [
        "from keras.applications import vgg16\n"
      ],
      "execution_count": 0,
      "outputs": []
    },
    {
      "cell_type": "markdown",
      "metadata": {
        "id": "3dUTBqPKJK7h",
        "colab_type": "text"
      },
      "source": [
        "The imagenet convolutional base is used while the top Dense layers are discared by include_top=False.\n",
        "\n",
        "The structure of that convolutional base is below:"
      ]
    },
    {
      "cell_type": "code",
      "metadata": {
        "id": "kvfiV9tWs5sO",
        "colab_type": "code",
        "outputId": "e754b0f1-10ae-4bad-d546-c419ceaf3c6c",
        "colab": {
          "base_uri": "https://localhost:8080/",
          "height": 826
        }
      },
      "source": [
        "conv_base=vgg16.VGG16(weights=\"imagenet\",input_shape=(150,150,3),include_top=False)\n",
        "conv_base.summary()"
      ],
      "execution_count": 0,
      "outputs": [
        {
          "output_type": "stream",
          "text": [
            "Model: \"vgg16\"\n",
            "_________________________________________________________________\n",
            "Layer (type)                 Output Shape              Param #   \n",
            "=================================================================\n",
            "input_2 (InputLayer)         (None, 150, 150, 3)       0         \n",
            "_________________________________________________________________\n",
            "block1_conv1 (Conv2D)        (None, 150, 150, 64)      1792      \n",
            "_________________________________________________________________\n",
            "block1_conv2 (Conv2D)        (None, 150, 150, 64)      36928     \n",
            "_________________________________________________________________\n",
            "block1_pool (MaxPooling2D)   (None, 75, 75, 64)        0         \n",
            "_________________________________________________________________\n",
            "block2_conv1 (Conv2D)        (None, 75, 75, 128)       73856     \n",
            "_________________________________________________________________\n",
            "block2_conv2 (Conv2D)        (None, 75, 75, 128)       147584    \n",
            "_________________________________________________________________\n",
            "block2_pool (MaxPooling2D)   (None, 37, 37, 128)       0         \n",
            "_________________________________________________________________\n",
            "block3_conv1 (Conv2D)        (None, 37, 37, 256)       295168    \n",
            "_________________________________________________________________\n",
            "block3_conv2 (Conv2D)        (None, 37, 37, 256)       590080    \n",
            "_________________________________________________________________\n",
            "block3_conv3 (Conv2D)        (None, 37, 37, 256)       590080    \n",
            "_________________________________________________________________\n",
            "block3_pool (MaxPooling2D)   (None, 18, 18, 256)       0         \n",
            "_________________________________________________________________\n",
            "block4_conv1 (Conv2D)        (None, 18, 18, 512)       1180160   \n",
            "_________________________________________________________________\n",
            "block4_conv2 (Conv2D)        (None, 18, 18, 512)       2359808   \n",
            "_________________________________________________________________\n",
            "block4_conv3 (Conv2D)        (None, 18, 18, 512)       2359808   \n",
            "_________________________________________________________________\n",
            "block4_pool (MaxPooling2D)   (None, 9, 9, 512)         0         \n",
            "_________________________________________________________________\n",
            "block5_conv1 (Conv2D)        (None, 9, 9, 512)         2359808   \n",
            "_________________________________________________________________\n",
            "block5_conv2 (Conv2D)        (None, 9, 9, 512)         2359808   \n",
            "_________________________________________________________________\n",
            "block5_conv3 (Conv2D)        (None, 9, 9, 512)         2359808   \n",
            "_________________________________________________________________\n",
            "block5_pool (MaxPooling2D)   (None, 4, 4, 512)         0         \n",
            "=================================================================\n",
            "Total params: 14,714,688\n",
            "Trainable params: 14,714,688\n",
            "Non-trainable params: 0\n",
            "_________________________________________________________________\n"
          ],
          "name": "stdout"
        }
      ]
    },
    {
      "cell_type": "code",
      "metadata": {
        "id": "87epdvabvFc1",
        "colab_type": "code",
        "outputId": "a39f0fe2-5e58-48da-f703-3df205d40a80",
        "colab": {
          "base_uri": "https://localhost:8080/",
          "height": 125
        }
      },
      "source": [
        "from google.colab import drive\n",
        "\n",
        "drive.mount('/content/gdrive')"
      ],
      "execution_count": 0,
      "outputs": [
        {
          "output_type": "stream",
          "text": [
            "Go to this URL in a browser: https://accounts.google.com/o/oauth2/auth?client_id=947318989803-6bn6qk8qdgf4n4g3pfee6491hc0brc4i.apps.googleusercontent.com&redirect_uri=urn%3Aietf%3Awg%3Aoauth%3A2.0%3Aoob&scope=email%20https%3A%2F%2Fwww.googleapis.com%2Fauth%2Fdocs.test%20https%3A%2F%2Fwww.googleapis.com%2Fauth%2Fdrive%20https%3A%2F%2Fwww.googleapis.com%2Fauth%2Fdrive.photos.readonly%20https%3A%2F%2Fwww.googleapis.com%2Fauth%2Fpeopleapi.readonly&response_type=code\n",
            "\n",
            "Enter your authorization code:\n",
            "··········\n",
            "Mounted at /content/gdrive\n"
          ],
          "name": "stdout"
        }
      ]
    },
    {
      "cell_type": "code",
      "metadata": {
        "id": "KMd2m3bZvbxx",
        "colab_type": "code",
        "colab": {}
      },
      "source": [
        "train_dir=\"/content/gdrive/My Drive/Practice/data/small_data/train\"\n",
        "validation_dir=\"/content/gdrive/My Drive/Practice/data/small_data/validation\"\n",
        "test_dir=\"/content/gdrive/My Drive/Practice/data/small_data/test\"\n",
        "\n"
      ],
      "execution_count": 0,
      "outputs": []
    },
    {
      "cell_type": "markdown",
      "metadata": {
        "id": "ufJxNN7TJlRw",
        "colab_type": "text"
      },
      "source": [
        "**There are several ways to take advantage of that pretrained convolutional base:**\n",
        "- Run the data through convolutional base and feed the output to the Dense Layer \n",
        "- Connect the convolutional base to customized Dense Layers on top to form a model.\n",
        "That model then is trained while:\n",
        "             +  Freezing all learned parameters in convolutional base\n",
        "             +  Freezing only a few bottom layers of convolutional base\n",
        "Regardless of the methods, the bottom layers should be frozen before training. Otherwise, the learned parameters would vanish.\n",
        "                        "
      ]
    },
    {
      "cell_type": "markdown",
      "metadata": {
        "id": "u9qbVoO4K8mg",
        "colab_type": "text"
      },
      "source": [
        "**1. Run the data through convolutional base**\n",
        "\n",
        "This is the least expensive method."
      ]
    },
    {
      "cell_type": "code",
      "metadata": {
        "id": "ng4OktEXvjGo",
        "colab_type": "code",
        "outputId": "7456878d-2688-49e7-bf38-8c17287bcf7a",
        "colab": {
          "base_uri": "https://localhost:8080/",
          "height": 70
        }
      },
      "source": [
        "from keras.preprocessing.image import ImageDataGenerator\n",
        "import numpy as np\n",
        "datagen=ImageDataGenerator(rescale=1.0/255)\n",
        "batch_size=20\n",
        "def extraction(directory,num_samples):\n",
        "  generator=datagen.flow_from_directory(directory,target_size=(150,150),batch_size=batch_size,class_mode=\"binary\")\n",
        "  features=np.zeros(shape=(num_samples,4,4,512))\n",
        "  labels=np.zeros(shape=(num_samples))\n",
        "  i=0\n",
        "  for batch_inputs,batch_labels in generator:\n",
        "    features[batch_size*i:batch_size*(i+1)]=conv_base.predict(batch_inputs)\n",
        "    labels[batch_size*i:batch_size*(i+1)]=batch_labels\n",
        "    i+=1\n",
        "    if i*batch_size>=num_samples:\n",
        "      break\n",
        "    return features,labels\n",
        "  \n",
        "train_features,train_labels=extraction(train_dir,2000)\n",
        "train_features=np.reshape(train_features,(2000,4*4*512))\n",
        "val_features,val_labels=extraction(validation_dir,1000)\n",
        "val_features=np.reshape(val_features,(1000,4*4*512))\n",
        "test_features,test_labels=extraction(test_dir,1000)\n",
        "test_features=np.reshape(test_features,(1000,4*4*512))\n",
        "\n",
        "\n",
        "    \n",
        "    \n",
        "  \n",
        "  \n",
        "  \n",
        "  \n",
        "  "
      ],
      "execution_count": 0,
      "outputs": [
        {
          "output_type": "stream",
          "text": [
            "Found 2000 images belonging to 2 classes.\n",
            "Found 1000 images belonging to 2 classes.\n",
            "Found 1010 images belonging to 2 classes.\n"
          ],
          "name": "stdout"
        }
      ]
    },
    {
      "cell_type": "markdown",
      "metadata": {
        "id": "CKEucOLzLMAb",
        "colab_type": "text"
      },
      "source": [
        "We then feed the output of convolutional base to feedforward network."
      ]
    },
    {
      "cell_type": "code",
      "metadata": {
        "id": "7gXrq1lDzPJ-",
        "colab_type": "code",
        "outputId": "e72b67fb-bdd7-4292-985f-27a45c7cfa3e",
        "colab": {
          "base_uri": "https://localhost:8080/",
          "height": 477
        }
      },
      "source": [
        "from  keras import models, layers\n",
        "from keras import optimizers\n",
        "\n",
        "network=models.Sequential()\n",
        "network.add(layers.Dense(512,input_dim=4*4*512,activation=\"relu\"))\n",
        "network.add(layers.Dropout(0.4))\n",
        "network.add(layers.Dense(1,activation=\"sigmoid\"))\n",
        "\n",
        "network.compile(loss=\"binary_crossentropy\",optimizer=optimizers.RMSprop(lr=0.0001),metrics=[\"acc\"])\n",
        "\n",
        "history=network.fit(train_features,train_labels,epochs=10,batch_size=32,validation_data=(val_features,val_labels))"
      ],
      "execution_count": 0,
      "outputs": [
        {
          "output_type": "stream",
          "text": [
            "WARNING:tensorflow:From /usr/local/lib/python3.6/dist-packages/keras/backend/tensorflow_backend.py:1033: The name tf.assign_add is deprecated. Please use tf.compat.v1.assign_add instead.\n",
            "\n",
            "WARNING:tensorflow:From /usr/local/lib/python3.6/dist-packages/keras/backend/tensorflow_backend.py:1020: The name tf.assign is deprecated. Please use tf.compat.v1.assign instead.\n",
            "\n",
            "Train on 2000 samples, validate on 1000 samples\n",
            "Epoch 1/10\n",
            "2000/2000 [==============================] - 4s 2ms/step - loss: 0.6818 - acc: 0.9975 - val_loss: 0.6956 - val_acc: 0.9880\n",
            "Epoch 2/10\n",
            "2000/2000 [==============================] - 4s 2ms/step - loss: 0.6417 - acc: 0.9980 - val_loss: 0.6550 - val_acc: 0.9880\n",
            "Epoch 3/10\n",
            "2000/2000 [==============================] - 4s 2ms/step - loss: 0.5995 - acc: 0.9990 - val_loss: 0.5834 - val_acc: 0.9930\n",
            "Epoch 4/10\n",
            "2000/2000 [==============================] - 4s 2ms/step - loss: 0.5524 - acc: 0.9990 - val_loss: 0.5498 - val_acc: 0.9890\n",
            "Epoch 5/10\n",
            "2000/2000 [==============================] - 4s 2ms/step - loss: 0.5025 - acc: 1.0000 - val_loss: 0.5256 - val_acc: 0.9880\n",
            "Epoch 6/10\n",
            "2000/2000 [==============================] - 4s 2ms/step - loss: 0.4508 - acc: 1.0000 - val_loss: 0.4738 - val_acc: 0.9890\n",
            "Epoch 7/10\n",
            "2000/2000 [==============================] - 4s 2ms/step - loss: 0.3991 - acc: 1.0000 - val_loss: 0.4506 - val_acc: 0.9880\n",
            "Epoch 8/10\n",
            "2000/2000 [==============================] - 4s 2ms/step - loss: 0.3475 - acc: 1.0000 - val_loss: 0.3555 - val_acc: 0.9900\n",
            "Epoch 9/10\n",
            "2000/2000 [==============================] - 4s 2ms/step - loss: 0.2994 - acc: 1.0000 - val_loss: 0.3074 - val_acc: 0.9900\n",
            "Epoch 10/10\n",
            "2000/2000 [==============================] - 4s 2ms/step - loss: 0.2527 - acc: 1.0000 - val_loss: 0.2854 - val_acc: 0.9890\n"
          ],
          "name": "stdout"
        }
      ]
    },
    {
      "cell_type": "code",
      "metadata": {
        "id": "4kKONUAM26DP",
        "colab_type": "code",
        "outputId": "d52949aa-1b2b-4a0b-fce6-0f4560f326fb",
        "colab": {
          "base_uri": "https://localhost:8080/",
          "height": 283
        }
      },
      "source": [
        "import matplotlib.pyplot as plt\n",
        "acc=history.history[\"acc\"]\n",
        "val_acc=history.history[\"val_acc\"]\n",
        "plt.plot(range(1,len(acc)+1),acc,label=\"Training accuracy\")\n",
        "plt.plot(range(1,len(acc)+1),val_acc,label=\"Validation accuracy\")\n",
        "plt.xlabel(\"Epochs\")\n",
        "plt.ylabel(\"Accuracy\")\n",
        "plt.legend()\n",
        "plt.show()\n",
        "\n",
        "\n"
      ],
      "execution_count": 0,
      "outputs": [
        {
          "output_type": "display_data",
          "data": {
            "image/png": "[encoded data removed]",
            "text/plain": [
              "<Figure size 432x288 with 1 Axes>"
            ]
          },
          "metadata": {
            "tags": []
          }
        }
      ]
    },
    {
      "cell_type": "markdown",
      "metadata": {
        "id": "ifb0CYdJLZb6",
        "colab_type": "text"
      },
      "source": [
        "**The accuracy in training set reaches 100% while that in validation set reaches 99%.**\n",
        "\n",
        "It easily surpasses the naive and small convolutional network that we trained ourselves.\n",
        "\n",
        "This inexpensive method proves to be cost effective."
      ]
    },
    {
      "cell_type": "markdown",
      "metadata": {
        "id": "G0Jn72AcMEjo",
        "colab_type": "text"
      },
      "source": [
        "**2. Connect the convolutional base to Dense Layers. Train the model while freezing the convolutional base**"
      ]
    },
    {
      "cell_type": "code",
      "metadata": {
        "id": "FQPx46MC3vTc",
        "colab_type": "code",
        "outputId": "8012c3b4-d0e4-486c-dae5-fc8c3536fd8f",
        "colab": {
          "base_uri": "https://localhost:8080/",
          "height": 298
        }
      },
      "source": [
        "from  keras import models, layers\n",
        "\n",
        "model=models.Sequential()\n",
        "model.add(conv_base)\n",
        "model.add(layers.Flatten())\n",
        "model.add(layers.Dense(256,activation=\"relu\"))\n",
        "model.add(layers.Dense(1,activation=\"sigmoid\"))\n",
        "model.summary()\n",
        "\n",
        "\n",
        "\n",
        "\n",
        "\n"
      ],
      "execution_count": 0,
      "outputs": [
        {
          "output_type": "stream",
          "text": [
            "Model: \"sequential_18\"\n",
            "_________________________________________________________________\n",
            "Layer (type)                 Output Shape              Param #   \n",
            "=================================================================\n",
            "vgg16 (Model)                (None, 4, 4, 512)         14714688  \n",
            "_________________________________________________________________\n",
            "flatten_11 (Flatten)         (None, 8192)              0         \n",
            "_________________________________________________________________\n",
            "dense_28 (Dense)             (None, 256)               2097408   \n",
            "_________________________________________________________________\n",
            "dense_29 (Dense)             (None, 1)                 257       \n",
            "=================================================================\n",
            "Total params: 16,812,353\n",
            "Trainable params: 2,097,665\n",
            "Non-trainable params: 14,714,688\n",
            "_________________________________________________________________\n"
          ],
          "name": "stdout"
        }
      ]
    },
    {
      "cell_type": "code",
      "metadata": {
        "id": "-08COWzn9uDl",
        "colab_type": "code",
        "outputId": "1b7dc7c0-6219-448e-f94f-0732b7fa923f",
        "colab": {
          "base_uri": "https://localhost:8080/",
          "height": 298
        }
      },
      "source": [
        "conv_base.trainable=False\n",
        "model.summary()"
      ],
      "execution_count": 0,
      "outputs": [
        {
          "output_type": "stream",
          "text": [
            "Model: \"sequential_17\"\n",
            "_________________________________________________________________\n",
            "Layer (type)                 Output Shape              Param #   \n",
            "=================================================================\n",
            "vgg16 (Model)                (None, 4, 4, 512)         14714688  \n",
            "_________________________________________________________________\n",
            "flatten_10 (Flatten)         (None, 8192)              0         \n",
            "_________________________________________________________________\n",
            "dense_26 (Dense)             (None, 512)               4194816   \n",
            "_________________________________________________________________\n",
            "dense_27 (Dense)             (None, 1)                 513       \n",
            "=================================================================\n",
            "Total params: 18,910,017\n",
            "Trainable params: 4,195,329\n",
            "Non-trainable params: 14,714,688\n",
            "_________________________________________________________________\n"
          ],
          "name": "stdout"
        }
      ]
    },
    {
      "cell_type": "code",
      "metadata": {
        "id": "lXPiW9zXBWdJ",
        "colab_type": "code",
        "outputId": "f4e1ed05-34fd-437d-c30f-186ef92d7904",
        "colab": {
          "base_uri": "https://localhost:8080/",
          "height": 334
        }
      },
      "source": [
        "traingen=ImageDataGenerator(rotation_range=40,height_shift_range=0.2,width_shift_range=0.2,rescale=1.0/255,horizontal_flip=True,shear_range=0.1,fill_mode=\"nearest\")\n",
        "valgen=ImageDataGenerator(rescale=1.0/255)\n",
        "traingenerator=traingen.flow_from_directory(train_dir,target_size=(150,150),class_mode=\"binary\",batch_size=32)\n",
        "valgenerator=valgen.flow_from_directory(validation_dir,target_size=(150,150),class_mode=\"binary\",batch_size=20)\n",
        "\n",
        "model.compile(loss=\"binary_crossentropy\",optimizer=optimizers.RMSprop(lr=0.0001),metrics=[\"acc\"])\n",
        "history=model.fit_generator(traingenerator,steps_per_epoch=100,epochs=8,validation_data=valgenerator,validation_steps=50,use_multiprocessing=True)\n",
        "\n"
      ],
      "execution_count": 0,
      "outputs": [
        {
          "output_type": "stream",
          "text": [
            "Found 2000 images belonging to 2 classes.\n",
            "Found 1000 images belonging to 2 classes.\n",
            "Epoch 1/8\n",
            "100/100 [==============================] - 1051s 11s/step - loss: 0.4931 - acc: 0.7531 - val_loss: 0.2986 - val_acc: 0.8760\n",
            "Epoch 2/8\n",
            "100/100 [==============================] - 1013s 10s/step - loss: 0.3862 - acc: 0.8222 - val_loss: 0.2693 - val_acc: 0.8910\n",
            "Epoch 3/8\n",
            "100/100 [==============================] - 1007s 10s/step - loss: 0.3616 - acc: 0.8400 - val_loss: 0.2547 - val_acc: 0.8910\n",
            "Epoch 4/8\n",
            "100/100 [==============================] - 1016s 10s/step - loss: 0.3339 - acc: 0.8500 - val_loss: 0.2503 - val_acc: 0.8910\n",
            "Epoch 5/8\n",
            "100/100 [==============================] - 1011s 10s/step - loss: 0.3296 - acc: 0.8597 - val_loss: 0.3171 - val_acc: 0.8640\n",
            "Epoch 6/8\n",
            "100/100 [==============================] - 1019s 10s/step - loss: 0.2994 - acc: 0.8681 - val_loss: 0.2447 - val_acc: 0.9000\n",
            "Epoch 7/8\n",
            "100/100 [==============================] - 1011s 10s/step - loss: 0.2894 - acc: 0.8694 - val_loss: 0.2409 - val_acc: 0.8940\n",
            "Epoch 8/8\n",
            "100/100 [==============================] - 1018s 10s/step - loss: 0.2913 - acc: 0.8703 - val_loss: 0.2468 - val_acc: 0.9000\n"
          ],
          "name": "stdout"
        }
      ]
    },
    {
      "cell_type": "code",
      "metadata": {
        "id": "WBkxLeFWeWHL",
        "colab_type": "code",
        "outputId": "dc40e1d1-3b63-451c-dde3-5400f313236f",
        "colab": {
          "base_uri": "https://localhost:8080/",
          "height": 283
        }
      },
      "source": [
        "\n",
        "acc=history.history[\"acc\"]\n",
        "val_acc=history.history[\"val_acc\"]\n",
        "plt.plot(range(1,len(acc)+1),acc,label=\"Training accuracy\")\n",
        "plt.plot(range(1,len(acc)+1),val_acc,label=\"Validation accuracy\")\n",
        "plt.xlabel(\"Epochs\")\n",
        "plt.ylabel(\"Accuracy\")\n",
        "plt.legend()\n",
        "plt.show()"
      ],
      "execution_count": 0,
      "outputs": [
        {
          "output_type": "display_data",
          "data": {
            "image/png": "[encoded data removed]",
            "text/plain": [
              "<Figure size 432x288 with 1 Axes>"
            ]
          },
          "metadata": {
            "tags": []
          }
        }
      ]
    },
    {
      "cell_type": "markdown",
      "metadata": {
        "id": "fR0-XDytMUwl",
        "colab_type": "text"
      },
      "source": [
        "In this particular case, the accuracy of this second method coverges more slowly that the first method. That is because the cats, dogs images dominates the imagenet so its convolutional base has already reached a high accuracy when distinguish dogs and cats."
      ]
    }
  ]
}